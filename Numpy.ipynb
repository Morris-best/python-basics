{
 "cells": [
  {
   "cell_type": "markdown",
   "metadata": {},
   "source": [
    "# Numpy Basics"
   ]
  },
  {
   "cell_type": "code",
   "execution_count": 2,
   "metadata": {},
   "outputs": [],
   "source": [
    "#import numpy module\n",
    "import numpy as np"
   ]
  },
  {
   "cell_type": "code",
   "execution_count": null,
   "metadata": {},
   "outputs": [],
   "source": [
    "#create numpy array\n",
    "np.array()"
   ]
  },
  {
   "cell_type": "markdown",
   "metadata": {},
   "source": [
    "### Basics"
   ]
  },
  {
   "cell_type": "markdown",
   "metadata": {},
   "source": [
    "- numpy array creation ~ specify the size, dtype\n",
    "- numpy arrays of ones, zeroes \n",
    "- numpy.random.generator ~ generates both integers and float \n",
    "- slicing arrays\n",
    "- numpy array manipulation\n",
    "- numpy array mathematical and statistical operations"
   ]
  },
  {
   "cell_type": "markdown",
   "metadata": {},
   "source": [
    "#### Numpy array syntax"
   ]
  },
  {
   "cell_type": "code",
   "execution_count": 18,
   "metadata": {},
   "outputs": [
    {
     "data": {
      "text/plain": [
       "array([[ 1.,  2.,  3.],\n",
       "       [ 4.,  5.,  6.],\n",
       "       [ 7.,  8.,  9.],\n",
       "       [10., 11., 12.],\n",
       "       [13., 14., 15.],\n",
       "       [16., 17., 18.]])"
      ]
     },
     "execution_count": 18,
     "metadata": {},
     "output_type": "execute_result"
    }
   ],
   "source": [
    "# create numpy arrays from a list,tuple and specify the output data type( int or float)\n",
    "\n",
    "#lists\n",
    "cars = [[1,2,3], [4,5,6], [7,8,9]]\n",
    "more_cars = [[10,11,12], [13,14,15], [16,17,18]]\n",
    "\n",
    "#create array\n",
    "car_array = np.array(cars + more_cars, dtype= float)\n",
    "\n",
    "car_array\n",
    "\n",
    "# np.array accepts only one list or tuple, therefore + is used to concantenate the 2 lists"
   ]
  },
  {
   "cell_type": "code",
   "execution_count": null,
   "metadata": {},
   "outputs": [],
   "source": [
    "# arrays of zeros and ones\n",
    "\n",
    "np.ones(size = (1,2) dtype=float)\n",
    "np.zeros()\n"
   ]
  },
  {
   "cell_type": "code",
   "execution_count": null,
   "metadata": {},
   "outputs": [],
   "source": [
    "# axis\n",
    "axis = 0 - columns\n",
    "axis = 1 - rows"
   ]
  },
  {
   "cell_type": "markdown",
   "metadata": {},
   "source": [
    "#### Numpy Array Generator"
   ]
  },
  {
   "cell_type": "code",
   "execution_count": 4,
   "metadata": {},
   "outputs": [
    {
     "data": {
      "text/plain": [
       "array([[5, 1, 2],\n",
       "       [2, 1, 5]], dtype=int32)"
      ]
     },
     "execution_count": 4,
     "metadata": {},
     "output_type": "execute_result"
    }
   ],
   "source": [
    "# numpy.random.generator.integer (simple method) --- for integers\n",
    "ar1 = np.random.randint(1, 6, size=(2,3))\n",
    "ar1\n",
    "\n",
    "# low=1, high =6 the array generated is exclusive of 6 i.e. array is between 1 and 5\n",
    "# to include 6 we use"
   ]
  },
  {
   "cell_type": "code",
   "execution_count": 5,
   "metadata": {},
   "outputs": [
    {
     "data": {
      "text/plain": [
       "array([[5, 2, 1],\n",
       "       [4, 4, 1]])"
      ]
     },
     "execution_count": 5,
     "metadata": {},
     "output_type": "execute_result"
    }
   ],
   "source": [
    "#using a generator ---for integers\n",
    "#create the generator\n",
    "arr = np.random.default_rng()\n",
    "\n",
    "#generate \n",
    "arr.integers(1, 6, size=(2,3) )\n"
   ]
  },
  {
   "cell_type": "code",
   "execution_count": 8,
   "metadata": {},
   "outputs": [
    {
     "data": {
      "text/plain": [
       "array([[0.85317626, 0.82100082, 0.67505383, 0.44499141],\n",
       "       [0.78429171, 0.35313953, 0.46471582, 0.60354776]])"
      ]
     },
     "execution_count": 8,
     "metadata": {},
     "output_type": "execute_result"
    }
   ],
   "source": [
    "# numpy.random.generator.random for float ----simple method\n",
    "# float generated is between 0 and 1\n",
    "\n",
    "ar2 = np.random.random(size=(2,4))\n",
    "\n",
    "ar2"
   ]
  },
  {
   "cell_type": "code",
   "execution_count": 9,
   "metadata": {},
   "outputs": [
    {
     "data": {
      "text/plain": [
       "array([[0.97466931, 0.78736897, 0.99019241, 0.79252543],\n",
       "       [0.34841221, 0.23762025, 0.70074976, 0.56878681]])"
      ]
     },
     "execution_count": 9,
     "metadata": {},
     "output_type": "execute_result"
    }
   ],
   "source": [
    "# float array generator\n",
    "#create generator\n",
    "arra = np.random.default_rng()\n",
    "\n",
    "#generate the float array\n",
    "arra.random(size=(2,4))"
   ]
  },
  {
   "cell_type": "markdown",
   "metadata": {},
   "source": [
    "#### slicing (indexing) arrays"
   ]
  },
  {
   "cell_type": "markdown",
   "metadata": {},
   "source": [
    "syntax\n",
    "np.array[vertical index, horizontal index]\n",
    "\n",
    "#slicing a range\n",
    "np.array[vertical start:stop, horizontal start:stop]\n"
   ]
  },
  {
   "cell_type": "code",
   "execution_count": 22,
   "metadata": {},
   "outputs": [
    {
     "data": {
      "text/plain": [
       "array([[8, 5, 7, 2, 5, 1],\n",
       "       [7, 9, 6, 9, 9, 6],\n",
       "       [2, 6, 9, 9, 3, 8]], dtype=int32)"
      ]
     },
     "execution_count": 22,
     "metadata": {},
     "output_type": "execute_result"
    }
   ],
   "source": [
    "# generate integer array, between 1-10 and size(3,6)\n",
    "slice = np.random.randint(1, 11, size=(3,6))\n",
    "\n",
    "slice\n"
   ]
  },
  {
   "cell_type": "code",
   "execution_count": 23,
   "metadata": {},
   "outputs": [
    {
     "data": {
      "text/plain": [
       "array([2, 6, 9], dtype=int32)"
      ]
     },
     "execution_count": 23,
     "metadata": {},
     "output_type": "execute_result"
    }
   ],
   "source": [
    "#slice row 3(index=2), the first 3 values(index=2)\n",
    "\n",
    "slice[2, :3]"
   ]
  },
  {
   "cell_type": "markdown",
   "metadata": {},
   "source": [
    "#boolean indexing\n",
    "returns an array the meet a specic condition"
   ]
  },
  {
   "cell_type": "code",
   "execution_count": null,
   "metadata": {},
   "outputs": [],
   "source": []
  },
  {
   "cell_type": "markdown",
   "metadata": {},
   "source": [
    "#### Numpy array manipulation"
   ]
  },
  {
   "cell_type": "markdown",
   "metadata": {},
   "source": [
    "np.append(array, list/tuple, axis = 0/1) - inserts an extra row or column to an existing array\n",
    "\n",
    "np.delete(array, index , axis =0/1) - removes a row or column stated at the index\n",
    "\n",
    "np.concatenate((array1, array2), axis =0/1 ) - joins 2 arrays at a particular axis (similar to +)\n",
    "\n",
    "np.reshape(array, (new_shape))\n",
    "        - reshape can flatten the array \n",
    "\n",
    "np.split(array, (parts))\n",
    "    - to output a split, the variable assigned need to be equal to the split parts i.e.\n",
    "    split1, split2 = np.split(array1, 2)\n",
    "\n",
    "np.transpose()\n",
    "    changes rows to columns - this commonly used to perform linear algebra in multiplication of vectors"
   ]
  },
  {
   "cell_type": "code",
   "execution_count": 27,
   "metadata": {},
   "outputs": [
    {
     "name": "stdout",
     "output_type": "stream",
     "text": [
      "[[1 2 1]\n",
      " [2 2 1]\n",
      " [2 3 2]]\n",
      "[[6 9 8]\n",
      " [6 6 7]\n",
      " [9 8 7]]\n"
     ]
    }
   ],
   "source": [
    "#generate 2, 3 dimensional arrays\n",
    "a = np.random.randint(1, 5, size=(3,3))\n",
    "b = np.random.randint(5, 10, size=(3,3))\n",
    "\n",
    "print(a)\n",
    "print(b)"
   ]
  },
  {
   "cell_type": "code",
   "execution_count": 28,
   "metadata": {},
   "outputs": [
    {
     "data": {
      "text/plain": [
       "array([[32, 25, 32],\n",
       "       [38, 31, 41],\n",
       "       [55, 44, 56]], dtype=int32)"
      ]
     },
     "execution_count": 28,
     "metadata": {},
     "output_type": "execute_result"
    }
   ],
   "source": [
    "#Transposing in vector multiplication (using the dot operation)\n",
    "np.dot(a, b.transpose())"
   ]
  },
  {
   "cell_type": "markdown",
   "metadata": {},
   "source": [
    "#### Maths and Stats Numpy operations"
   ]
  },
  {
   "cell_type": "markdown",
   "metadata": {},
   "source": [
    "1. Numpy mathematics\n",
    "\n",
    "np.add(array1, array2) - adds the arrays together element wise; corresponding elements of the array ar added together\n",
    "\n",
    "np.subtract(array1, array2)\n",
    "\n",
    "np.divide(array1, array 2)\n",
    "\n",
    "np.multiply(array1, array2)\n",
    "\n",
    "np.sqrt(array)\n",
    "\n",
    "np.power(array, power ~ eg.2,3)\n",
    "\n"
   ]
  },
  {
   "cell_type": "code",
   "execution_count": 29,
   "metadata": {},
   "outputs": [
    {
     "name": "stdout",
     "output_type": "stream",
     "text": [
      "[[1 2 1]\n",
      " [2 2 1]\n",
      " [2 3 2]]\n"
     ]
    }
   ],
   "source": [
    "print(a)"
   ]
  },
  {
   "cell_type": "code",
   "execution_count": 30,
   "metadata": {},
   "outputs": [
    {
     "name": "stdout",
     "output_type": "stream",
     "text": [
      "[[6 9 8]\n",
      " [6 6 7]\n",
      " [9 8 7]]\n"
     ]
    }
   ],
   "source": [
    "print(b)"
   ]
  },
  {
   "cell_type": "code",
   "execution_count": 32,
   "metadata": {},
   "outputs": [
    {
     "data": {
      "text/plain": [
       "array([[ 7, 11,  9],\n",
       "       [ 8,  8,  8],\n",
       "       [11, 11,  9]], dtype=int32)"
      ]
     },
     "execution_count": 32,
     "metadata": {},
     "output_type": "execute_result"
    }
   ],
   "source": [
    "#add the 2 arrays together\n",
    "\n",
    "ad = np.add(a,b)\n",
    "ad"
   ]
  },
  {
   "cell_type": "code",
   "execution_count": 33,
   "metadata": {},
   "outputs": [
    {
     "data": {
      "text/plain": [
       "array([5, 7, 4])"
      ]
     },
     "execution_count": 33,
     "metadata": {},
     "output_type": "execute_result"
    }
   ],
   "source": [
    "#sum of the columns for array a\n",
    "a.sum(axis=0)"
   ]
  },
  {
   "cell_type": "markdown",
   "metadata": {},
   "source": [
    "**\n",
    "array.sum( axis= 0/1) - gives the sum of an array at the column or row level\n",
    "\n",
    "array.min(axis= 0/1)\n",
    "\n",
    "array.max(axis = 0/1)\n",
    "\n",
    "np.argmax(array, axis= 0/1) index of the max number at column or row level ~ for the whole array the axis paranthesis are left blank\n",
    "\n",
    "np.argmin(array, ) as above"
   ]
  },
  {
   "cell_type": "markdown",
   "metadata": {},
   "source": [
    "#### Statistics in Numpy"
   ]
  },
  {
   "cell_type": "markdown",
   "metadata": {},
   "source": [
    "np.mean(array, axis = 0/1)\n",
    "\n",
    "np.median(array, axis = 0/1)\n",
    "\n",
    "np.std(array, axis = 0/1)\n",
    "\n",
    "np.variance(array, axis = 0/1)"
   ]
  },
  {
   "cell_type": "code",
   "execution_count": null,
   "metadata": {},
   "outputs": [],
   "source": []
  }
 ],
 "metadata": {
  "kernelspec": {
   "display_name": "Python 3",
   "language": "python",
   "name": "python3"
  },
  "language_info": {
   "codemirror_mode": {
    "name": "ipython",
    "version": 3
   },
   "file_extension": ".py",
   "mimetype": "text/x-python",
   "name": "python",
   "nbconvert_exporter": "python",
   "pygments_lexer": "ipython3",
   "version": "3.13.0"
  }
 },
 "nbformat": 4,
 "nbformat_minor": 2
}
